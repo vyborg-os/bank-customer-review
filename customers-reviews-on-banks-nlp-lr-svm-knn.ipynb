{
 "cells": [
  {
   "cell_type": "code",
   "execution_count": 327,
   "metadata": {
    "_cell_guid": "b1076dfc-b9ad-4769-8c92-a6c4dae69d19",
    "_uuid": "8f2839f25d086af736a60e9eeb907d3b93b6e0e5"
   },
   "outputs": [],
   "source": [
    "import numpy as np # linear algebra\n",
    "import pandas as pd # data processing, CSV file I/O (e.g. pd.read_csv)\n",
    "import warnings\n",
    "warnings.filterwarnings(\"ignore\")\n"
   ]
  },
  {
   "cell_type": "code",
   "execution_count": 328,
   "metadata": {},
   "outputs": [],
   "source": [
    "df = pd.read_csv(\"Banks.csv\")"
   ]
  },
  {
   "cell_type": "code",
   "execution_count": 329,
   "metadata": {},
   "outputs": [
    {
     "data": {
      "text/html": [
       "<div>\n",
       "<style scoped>\n",
       "    .dataframe tbody tr th:only-of-type {\n",
       "        vertical-align: middle;\n",
       "    }\n",
       "\n",
       "    .dataframe tbody tr th {\n",
       "        vertical-align: top;\n",
       "    }\n",
       "\n",
       "    .dataframe thead th {\n",
       "        text-align: right;\n",
       "    }\n",
       "</style>\n",
       "<table border=\"1\" class=\"dataframe\">\n",
       "  <thead>\n",
       "    <tr style=\"text-align: right;\">\n",
       "      <th></th>\n",
       "      <th>author</th>\n",
       "      <th>date</th>\n",
       "      <th>location</th>\n",
       "      <th>bank</th>\n",
       "      <th>star</th>\n",
       "      <th>text</th>\n",
       "      <th>like</th>\n",
       "    </tr>\n",
       "  </thead>\n",
       "  <tbody>\n",
       "    <tr>\n",
       "      <th>0</th>\n",
       "      <td>Kyle</td>\n",
       "      <td>31.08.2023</td>\n",
       "      <td>Magnolia, TX</td>\n",
       "      <td>merrick_bank</td>\n",
       "      <td>5</td>\n",
       "      <td>Very easy to use to view statements and make o...</td>\n",
       "      <td>NaN</td>\n",
       "    </tr>\n",
       "    <tr>\n",
       "      <th>1</th>\n",
       "      <td>Julicia</td>\n",
       "      <td>23.08.2023</td>\n",
       "      <td>Columbus, GA</td>\n",
       "      <td>merrick_bank</td>\n",
       "      <td>5</td>\n",
       "      <td>Merrick Bank has always been good to me for bu...</td>\n",
       "      <td>NaN</td>\n",
       "    </tr>\n",
       "    <tr>\n",
       "      <th>2</th>\n",
       "      <td>Karen</td>\n",
       "      <td>2.06.2023</td>\n",
       "      <td>Marrero, LA</td>\n",
       "      <td>merrick_bank</td>\n",
       "      <td>4</td>\n",
       "      <td>Times are tough for everyone and I have worked...</td>\n",
       "      <td>3.0</td>\n",
       "    </tr>\n",
       "    <tr>\n",
       "      <th>3</th>\n",
       "      <td>Brent</td>\n",
       "      <td>29.03.2023</td>\n",
       "      <td>Moultrie, GA</td>\n",
       "      <td>merrick_bank</td>\n",
       "      <td>5</td>\n",
       "      <td>I can not asked for a better Credit Card Compa...</td>\n",
       "      <td>3.0</td>\n",
       "    </tr>\n",
       "    <tr>\n",
       "      <th>4</th>\n",
       "      <td>Sharon</td>\n",
       "      <td>23.11.2022</td>\n",
       "      <td>Burnham, IL</td>\n",
       "      <td>merrick_bank</td>\n",
       "      <td>5</td>\n",
       "      <td>Updated on 02/10/2023: I was happy to sign for...</td>\n",
       "      <td>3.0</td>\n",
       "    </tr>\n",
       "  </tbody>\n",
       "</table>\n",
       "</div>"
      ],
      "text/plain": [
       "    author        date      location          bank  star  \\\n",
       "0     Kyle  31.08.2023  Magnolia, TX  merrick_bank     5   \n",
       "1  Julicia  23.08.2023  Columbus, GA  merrick_bank     5   \n",
       "2    Karen   2.06.2023   Marrero, LA  merrick_bank     4   \n",
       "3    Brent  29.03.2023  Moultrie, GA  merrick_bank     5   \n",
       "4   Sharon  23.11.2022   Burnham, IL  merrick_bank     5   \n",
       "\n",
       "                                                text  like  \n",
       "0  Very easy to use to view statements and make o...   NaN  \n",
       "1  Merrick Bank has always been good to me for bu...   NaN  \n",
       "2  Times are tough for everyone and I have worked...   3.0  \n",
       "3  I can not asked for a better Credit Card Compa...   3.0  \n",
       "4  Updated on 02/10/2023: I was happy to sign for...   3.0  "
      ]
     },
     "execution_count": 329,
     "metadata": {},
     "output_type": "execute_result"
    }
   ],
   "source": [
    "df.head()"
   ]
  },
  {
   "cell_type": "code",
   "execution_count": 330,
   "metadata": {},
   "outputs": [
    {
     "name": "stdout",
     "output_type": "stream",
     "text": [
      "<class 'pandas.core.frame.DataFrame'>\n",
      "RangeIndex: 19271 entries, 0 to 19270\n",
      "Data columns (total 7 columns):\n",
      " #   Column    Non-Null Count  Dtype  \n",
      "---  ------    --------------  -----  \n",
      " 0   author    19269 non-null  object \n",
      " 1   date      19271 non-null  object \n",
      " 2   location  19271 non-null  object \n",
      " 3   bank      19271 non-null  object \n",
      " 4   star      19271 non-null  int64  \n",
      " 5   text      19181 non-null  object \n",
      " 6   like      17769 non-null  float64\n",
      "dtypes: float64(1), int64(1), object(5)\n",
      "memory usage: 1.0+ MB\n"
     ]
    }
   ],
   "source": [
    "df.info()"
   ]
  },
  {
   "cell_type": "code",
   "execution_count": 331,
   "metadata": {},
   "outputs": [
    {
     "data": {
      "text/plain": [
       "author         2\n",
       "date           0\n",
       "location       0\n",
       "bank           0\n",
       "star           0\n",
       "text          90\n",
       "like        1502\n",
       "dtype: int64"
      ]
     },
     "execution_count": 331,
     "metadata": {},
     "output_type": "execute_result"
    }
   ],
   "source": [
    "df.isna().sum()"
   ]
  },
  {
   "cell_type": "code",
   "execution_count": 332,
   "metadata": {},
   "outputs": [],
   "source": [
    "df.dropna(subset=['author', 'text'], inplace=True)\n",
    "\n",
    "# Replacing NaN values in 'like' column with 0\n",
    "df['like'].fillna(0, inplace=True)"
   ]
  },
  {
   "cell_type": "code",
   "execution_count": 333,
   "metadata": {},
   "outputs": [
    {
     "data": {
      "text/plain": [
       "author      0\n",
       "date        0\n",
       "location    0\n",
       "bank        0\n",
       "star        0\n",
       "text        0\n",
       "like        0\n",
       "dtype: int64"
      ]
     },
     "execution_count": 333,
     "metadata": {},
     "output_type": "execute_result"
    }
   ],
   "source": [
    "# GOOD TO GO\n",
    "df.isna().sum()"
   ]
  },
  {
   "cell_type": "code",
   "execution_count": 334,
   "metadata": {},
   "outputs": [
    {
     "data": {
      "text/html": [
       "<div>\n",
       "<style scoped>\n",
       "    .dataframe tbody tr th:only-of-type {\n",
       "        vertical-align: middle;\n",
       "    }\n",
       "\n",
       "    .dataframe tbody tr th {\n",
       "        vertical-align: top;\n",
       "    }\n",
       "\n",
       "    .dataframe thead th {\n",
       "        text-align: right;\n",
       "    }\n",
       "</style>\n",
       "<table border=\"1\" class=\"dataframe\">\n",
       "  <thead>\n",
       "    <tr style=\"text-align: right;\">\n",
       "      <th></th>\n",
       "      <th>author</th>\n",
       "      <th>date</th>\n",
       "      <th>location</th>\n",
       "      <th>bank</th>\n",
       "      <th>star</th>\n",
       "      <th>text</th>\n",
       "      <th>like</th>\n",
       "    </tr>\n",
       "  </thead>\n",
       "  <tbody>\n",
       "    <tr>\n",
       "      <th>0</th>\n",
       "      <td>Kyle</td>\n",
       "      <td>31.08.2023</td>\n",
       "      <td>Magnolia, TX</td>\n",
       "      <td>merrick_bank</td>\n",
       "      <td>5</td>\n",
       "      <td>Very easy to use to view statements and make o...</td>\n",
       "      <td>0.0</td>\n",
       "    </tr>\n",
       "    <tr>\n",
       "      <th>1</th>\n",
       "      <td>Julicia</td>\n",
       "      <td>23.08.2023</td>\n",
       "      <td>Columbus, GA</td>\n",
       "      <td>merrick_bank</td>\n",
       "      <td>5</td>\n",
       "      <td>Merrick Bank has always been good to me for bu...</td>\n",
       "      <td>0.0</td>\n",
       "    </tr>\n",
       "    <tr>\n",
       "      <th>2</th>\n",
       "      <td>Karen</td>\n",
       "      <td>2.06.2023</td>\n",
       "      <td>Marrero, LA</td>\n",
       "      <td>merrick_bank</td>\n",
       "      <td>4</td>\n",
       "      <td>Times are tough for everyone and I have worked...</td>\n",
       "      <td>3.0</td>\n",
       "    </tr>\n",
       "    <tr>\n",
       "      <th>3</th>\n",
       "      <td>Brent</td>\n",
       "      <td>29.03.2023</td>\n",
       "      <td>Moultrie, GA</td>\n",
       "      <td>merrick_bank</td>\n",
       "      <td>5</td>\n",
       "      <td>I can not asked for a better Credit Card Compa...</td>\n",
       "      <td>3.0</td>\n",
       "    </tr>\n",
       "    <tr>\n",
       "      <th>4</th>\n",
       "      <td>Sharon</td>\n",
       "      <td>23.11.2022</td>\n",
       "      <td>Burnham, IL</td>\n",
       "      <td>merrick_bank</td>\n",
       "      <td>5</td>\n",
       "      <td>Updated on 02/10/2023: I was happy to sign for...</td>\n",
       "      <td>3.0</td>\n",
       "    </tr>\n",
       "  </tbody>\n",
       "</table>\n",
       "</div>"
      ],
      "text/plain": [
       "    author        date      location          bank  star  \\\n",
       "0     Kyle  31.08.2023  Magnolia, TX  merrick_bank     5   \n",
       "1  Julicia  23.08.2023  Columbus, GA  merrick_bank     5   \n",
       "2    Karen   2.06.2023   Marrero, LA  merrick_bank     4   \n",
       "3    Brent  29.03.2023  Moultrie, GA  merrick_bank     5   \n",
       "4   Sharon  23.11.2022   Burnham, IL  merrick_bank     5   \n",
       "\n",
       "                                                text  like  \n",
       "0  Very easy to use to view statements and make o...   0.0  \n",
       "1  Merrick Bank has always been good to me for bu...   0.0  \n",
       "2  Times are tough for everyone and I have worked...   3.0  \n",
       "3  I can not asked for a better Credit Card Compa...   3.0  \n",
       "4  Updated on 02/10/2023: I was happy to sign for...   3.0  "
      ]
     },
     "execution_count": 334,
     "metadata": {},
     "output_type": "execute_result"
    }
   ],
   "source": [
    "# CLEAR\n",
    "df.head()"
   ]
  },
  {
   "cell_type": "code",
   "execution_count": 335,
   "metadata": {},
   "outputs": [],
   "source": [
    "# Lets convert the 'date' column to a datetime data type\n",
    "df['date'] = pd.to_datetime(df['date'], format='%d.%m.%Y')"
   ]
  },
  {
   "cell_type": "code",
   "execution_count": 336,
   "metadata": {},
   "outputs": [
    {
     "name": "stdout",
     "output_type": "stream",
     "text": [
      "<class 'pandas.core.frame.DataFrame'>\n",
      "Index: 19179 entries, 0 to 19270\n",
      "Data columns (total 7 columns):\n",
      " #   Column    Non-Null Count  Dtype         \n",
      "---  ------    --------------  -----         \n",
      " 0   author    19179 non-null  object        \n",
      " 1   date      19179 non-null  datetime64[ns]\n",
      " 2   location  19179 non-null  object        \n",
      " 3   bank      19179 non-null  object        \n",
      " 4   star      19179 non-null  int64         \n",
      " 5   text      19179 non-null  object        \n",
      " 6   like      19179 non-null  float64       \n",
      "dtypes: datetime64[ns](1), float64(1), int64(1), object(4)\n",
      "memory usage: 1.2+ MB\n"
     ]
    }
   ],
   "source": [
    "# DONE \n",
    "df.info()"
   ]
  },
  {
   "cell_type": "code",
   "execution_count": 337,
   "metadata": {},
   "outputs": [],
   "source": [
    "# Now Lets split 'date' column into day, month, and year into separate columns\n",
    "df['day'] = df['date'].dt.day\n",
    "df['month'] = df['date'].dt.month\n",
    "df['year'] = df['date'].dt.year"
   ]
  },
  {
   "cell_type": "code",
   "execution_count": 338,
   "metadata": {},
   "outputs": [],
   "source": [
    "# Well we can drop date column now, as we dont need that anymore\n",
    "df.drop(columns=['date'], inplace=True)"
   ]
  },
  {
   "cell_type": "code",
   "execution_count": 339,
   "metadata": {},
   "outputs": [
    {
     "data": {
      "text/html": [
       "<div>\n",
       "<style scoped>\n",
       "    .dataframe tbody tr th:only-of-type {\n",
       "        vertical-align: middle;\n",
       "    }\n",
       "\n",
       "    .dataframe tbody tr th {\n",
       "        vertical-align: top;\n",
       "    }\n",
       "\n",
       "    .dataframe thead th {\n",
       "        text-align: right;\n",
       "    }\n",
       "</style>\n",
       "<table border=\"1\" class=\"dataframe\">\n",
       "  <thead>\n",
       "    <tr style=\"text-align: right;\">\n",
       "      <th></th>\n",
       "      <th>author</th>\n",
       "      <th>location</th>\n",
       "      <th>bank</th>\n",
       "      <th>star</th>\n",
       "      <th>text</th>\n",
       "      <th>like</th>\n",
       "      <th>day</th>\n",
       "      <th>month</th>\n",
       "      <th>year</th>\n",
       "    </tr>\n",
       "  </thead>\n",
       "  <tbody>\n",
       "    <tr>\n",
       "      <th>0</th>\n",
       "      <td>Kyle</td>\n",
       "      <td>Magnolia, TX</td>\n",
       "      <td>merrick_bank</td>\n",
       "      <td>5</td>\n",
       "      <td>Very easy to use to view statements and make o...</td>\n",
       "      <td>0.0</td>\n",
       "      <td>31</td>\n",
       "      <td>8</td>\n",
       "      <td>2023</td>\n",
       "    </tr>\n",
       "    <tr>\n",
       "      <th>1</th>\n",
       "      <td>Julicia</td>\n",
       "      <td>Columbus, GA</td>\n",
       "      <td>merrick_bank</td>\n",
       "      <td>5</td>\n",
       "      <td>Merrick Bank has always been good to me for bu...</td>\n",
       "      <td>0.0</td>\n",
       "      <td>23</td>\n",
       "      <td>8</td>\n",
       "      <td>2023</td>\n",
       "    </tr>\n",
       "    <tr>\n",
       "      <th>2</th>\n",
       "      <td>Karen</td>\n",
       "      <td>Marrero, LA</td>\n",
       "      <td>merrick_bank</td>\n",
       "      <td>4</td>\n",
       "      <td>Times are tough for everyone and I have worked...</td>\n",
       "      <td>3.0</td>\n",
       "      <td>2</td>\n",
       "      <td>6</td>\n",
       "      <td>2023</td>\n",
       "    </tr>\n",
       "    <tr>\n",
       "      <th>3</th>\n",
       "      <td>Brent</td>\n",
       "      <td>Moultrie, GA</td>\n",
       "      <td>merrick_bank</td>\n",
       "      <td>5</td>\n",
       "      <td>I can not asked for a better Credit Card Compa...</td>\n",
       "      <td>3.0</td>\n",
       "      <td>29</td>\n",
       "      <td>3</td>\n",
       "      <td>2023</td>\n",
       "    </tr>\n",
       "    <tr>\n",
       "      <th>4</th>\n",
       "      <td>Sharon</td>\n",
       "      <td>Burnham, IL</td>\n",
       "      <td>merrick_bank</td>\n",
       "      <td>5</td>\n",
       "      <td>Updated on 02/10/2023: I was happy to sign for...</td>\n",
       "      <td>3.0</td>\n",
       "      <td>23</td>\n",
       "      <td>11</td>\n",
       "      <td>2022</td>\n",
       "    </tr>\n",
       "  </tbody>\n",
       "</table>\n",
       "</div>"
      ],
      "text/plain": [
       "    author      location          bank  star  \\\n",
       "0     Kyle  Magnolia, TX  merrick_bank     5   \n",
       "1  Julicia  Columbus, GA  merrick_bank     5   \n",
       "2    Karen   Marrero, LA  merrick_bank     4   \n",
       "3    Brent  Moultrie, GA  merrick_bank     5   \n",
       "4   Sharon   Burnham, IL  merrick_bank     5   \n",
       "\n",
       "                                                text  like  day  month  year  \n",
       "0  Very easy to use to view statements and make o...   0.0   31      8  2023  \n",
       "1  Merrick Bank has always been good to me for bu...   0.0   23      8  2023  \n",
       "2  Times are tough for everyone and I have worked...   3.0    2      6  2023  \n",
       "3  I can not asked for a better Credit Card Compa...   3.0   29      3  2023  \n",
       "4  Updated on 02/10/2023: I was happy to sign for...   3.0   23     11  2022  "
      ]
     },
     "execution_count": 339,
     "metadata": {},
     "output_type": "execute_result"
    }
   ],
   "source": [
    "# GREAT\n",
    "df.head()"
   ]
  },
  {
   "cell_type": "code",
   "execution_count": 340,
   "metadata": {},
   "outputs": [],
   "source": [
    "import seaborn as sns\n",
    "import matplotlib.pyplot as plt\n",
    "import plotly.express as px"
   ]
  },
  {
   "cell_type": "markdown",
   "metadata": {},
   "source": [
    "# NLP"
   ]
  },
  {
   "cell_type": "code",
   "execution_count": 353,
   "metadata": {},
   "outputs": [
    {
     "data": {
      "text/plain": [
       "'I have been a Merrick customer for about a decade now. There has never been a problem, dispute, or even a call to customer service. In this day and age, that is phenomenal. Truly happy with this company and have recommended them to many friends. Thank you for your continuing service.'"
      ]
     },
     "execution_count": 353,
     "metadata": {},
     "output_type": "execute_result"
    }
   ],
   "source": [
    "df['text'][8]"
   ]
  },
  {
   "cell_type": "code",
   "execution_count": 354,
   "metadata": {},
   "outputs": [],
   "source": [
    "from transformers import AutoTokenizer, AutoModelForSequenceClassification\n",
    "import re\n",
    "# from wordcloud import WordCloud\n",
    "# import torch"
   ]
  },
  {
   "cell_type": "code",
   "execution_count": 355,
   "metadata": {},
   "outputs": [],
   "source": [
    "# from huggingface_hub import hf_hub_download\n",
    "\n",
    "# hf_hub_download(repo_id=\"bigscience/T0_3B\", filename=\"config.json\", cache_dir=\"./Users/oluwasegun/downloads/bigscience_t0\")"
   ]
  },
  {
   "cell_type": "code",
   "execution_count": 356,
   "metadata": {},
   "outputs": [],
   "source": [
    "# from transformers import AutoConfig\n",
    "\n",
    "# config = AutoConfig.from_pretrained(\"./Users/oluwasegun/downloads/bigscience_t0/config.json\")"
   ]
  },
  {
   "cell_type": "code",
   "execution_count": 357,
   "metadata": {},
   "outputs": [],
   "source": [
    "tokenizer = AutoTokenizer.from_pretrained(\"bert-base-uncased\")\n",
    "\n",
    "# First let's define a function to clean and preprocess text\n",
    "def clean_and_tokenize(text):\n",
    "    # Here tokenizing the text using BERT tokenizer\n",
    "    tokens = tokenizer.tokenize(text)\n",
    "\n",
    "    # This converts tokens back to text\n",
    "    cleaned_text = \" \".join(tokens)\n",
    "\n",
    "    # This removes special characters and punctuation\n",
    "    cleaned_text = re.sub(r'[^\\w\\s]', '', cleaned_text)\n",
    "\n",
    "    # This converts text to lowercase\n",
    "    cleaned_text = cleaned_text.lower()\n",
    "\n",
    "    return cleaned_text"
   ]
  },
  {
   "cell_type": "code",
   "execution_count": 358,
   "metadata": {},
   "outputs": [
    {
     "name": "stdout",
     "output_type": "stream",
     "text": [
      "i have been a mer rick customer for about a decade now  there has never been a problem  dispute  or even a call to customer service  in this day and age  that is phenomena l  truly happy with this company and have recommended them to many friends  thank you for your continuing service \n"
     ]
    }
   ],
   "source": [
    "example_text = \"I have been a Merrick customer for about a decade now. There has never been a problem, dispute, or even a call to customer service. In this day and age, that is phenomenal. Truly happy with this company and have recommended them to many friends. Thank you for your continuing service.\"\n",
    "\n",
    "cleaned_text = clean_and_tokenize(example_text)\n",
    "print(cleaned_text)"
   ]
  },
  {
   "cell_type": "code",
   "execution_count": 359,
   "metadata": {},
   "outputs": [],
   "source": [
    "all_cleaned_text = \" \".join(df['text'].dropna())"
   ]
  },
  {
   "cell_type": "code",
   "execution_count": 360,
   "metadata": {},
   "outputs": [
    {
     "data": {
      "text/html": [
       "<div>\n",
       "<style scoped>\n",
       "    .dataframe tbody tr th:only-of-type {\n",
       "        vertical-align: middle;\n",
       "    }\n",
       "\n",
       "    .dataframe tbody tr th {\n",
       "        vertical-align: top;\n",
       "    }\n",
       "\n",
       "    .dataframe thead th {\n",
       "        text-align: right;\n",
       "    }\n",
       "</style>\n",
       "<table border=\"1\" class=\"dataframe\">\n",
       "  <thead>\n",
       "    <tr style=\"text-align: right;\">\n",
       "      <th></th>\n",
       "      <th>bank</th>\n",
       "      <th>star</th>\n",
       "      <th>sentiment</th>\n",
       "    </tr>\n",
       "  </thead>\n",
       "  <tbody>\n",
       "    <tr>\n",
       "      <th>0</th>\n",
       "      <td>merrick_bank</td>\n",
       "      <td>5</td>\n",
       "      <td>1</td>\n",
       "    </tr>\n",
       "    <tr>\n",
       "      <th>1</th>\n",
       "      <td>merrick_bank</td>\n",
       "      <td>5</td>\n",
       "      <td>1</td>\n",
       "    </tr>\n",
       "    <tr>\n",
       "      <th>2</th>\n",
       "      <td>merrick_bank</td>\n",
       "      <td>4</td>\n",
       "      <td>1</td>\n",
       "    </tr>\n",
       "    <tr>\n",
       "      <th>3</th>\n",
       "      <td>merrick_bank</td>\n",
       "      <td>5</td>\n",
       "      <td>1</td>\n",
       "    </tr>\n",
       "    <tr>\n",
       "      <th>4</th>\n",
       "      <td>merrick_bank</td>\n",
       "      <td>5</td>\n",
       "      <td>1</td>\n",
       "    </tr>\n",
       "    <tr>\n",
       "      <th>...</th>\n",
       "      <td>...</td>\n",
       "      <td>...</td>\n",
       "      <td>...</td>\n",
       "    </tr>\n",
       "    <tr>\n",
       "      <th>19266</th>\n",
       "      <td>tcf_bank</td>\n",
       "      <td>1</td>\n",
       "      <td>0</td>\n",
       "    </tr>\n",
       "    <tr>\n",
       "      <th>19267</th>\n",
       "      <td>tcf_bank</td>\n",
       "      <td>1</td>\n",
       "      <td>0</td>\n",
       "    </tr>\n",
       "    <tr>\n",
       "      <th>19268</th>\n",
       "      <td>tcf_bank</td>\n",
       "      <td>1</td>\n",
       "      <td>0</td>\n",
       "    </tr>\n",
       "    <tr>\n",
       "      <th>19269</th>\n",
       "      <td>tcf_bank</td>\n",
       "      <td>1</td>\n",
       "      <td>0</td>\n",
       "    </tr>\n",
       "    <tr>\n",
       "      <th>19270</th>\n",
       "      <td>tcf_bank</td>\n",
       "      <td>1</td>\n",
       "      <td>0</td>\n",
       "    </tr>\n",
       "  </tbody>\n",
       "</table>\n",
       "<p>19179 rows × 3 columns</p>\n",
       "</div>"
      ],
      "text/plain": [
       "               bank  star  sentiment\n",
       "0      merrick_bank     5          1\n",
       "1      merrick_bank     5          1\n",
       "2      merrick_bank     4          1\n",
       "3      merrick_bank     5          1\n",
       "4      merrick_bank     5          1\n",
       "...             ...   ...        ...\n",
       "19266      tcf_bank     1          0\n",
       "19267      tcf_bank     1          0\n",
       "19268      tcf_bank     1          0\n",
       "19269      tcf_bank     1          0\n",
       "19270      tcf_bank     1          0\n",
       "\n",
       "[19179 rows x 3 columns]"
      ]
     },
     "execution_count": 360,
     "metadata": {},
     "output_type": "execute_result"
    }
   ],
   "source": [
    "def get_sentiment(star):\n",
    "    if star >= 3:\n",
    "        return 1  # Positive sentiment\n",
    "    else:\n",
    "        return 0  # Negative sentiment\n",
    "\n",
    "# Creating new column 'sentiment'\n",
    "df['sentiment'] = df['star'].apply(get_sentiment)\n",
    "\n",
    "df[['bank', 'star', 'sentiment']]"
   ]
  },
  {
   "cell_type": "code",
   "execution_count": 361,
   "metadata": {},
   "outputs": [
    {
     "data": {
      "image/png": "[encoded data removed]",
      "text/plain": [
       "<Figure size 600x600 with 1 Axes>"
      ]
     },
     "metadata": {},
     "output_type": "display_data"
    }
   ],
   "source": [
    "sentiment_counts = df['sentiment'].value_counts(normalize=True) * 100\n",
    "\n",
    "plt.figure(figsize=(6, 6))\n",
    "colors = sns.color_palette(\"Set2\")\n",
    "plt.pie(sentiment_counts, labels=['Positive (1)', 'Negative (0)'], colors=colors, autopct='%1.1f%%', startangle=140)\n",
    "plt.title(\"Sentiment Distribution\")\n",
    "plt.legend(['Positive (1)', 'Negative (0)'], loc='upper right')\n",
    "\n",
    "plt.show()"
   ]
  },
  {
   "cell_type": "code",
   "execution_count": 363,
   "metadata": {},
   "outputs": [],
   "source": [
    "from sklearn.model_selection import train_test_split\n",
    "# Features (X) and labels (y)\n",
    "X = df['text'].dropna() \n",
    "y = df['sentiment']   # Labels\n",
    "\n",
    "X_train, X_test, y_train, y_test = train_test_split(X, y, random_state = 42)"
   ]
  },
  {
   "cell_type": "code",
   "execution_count": 364,
   "metadata": {},
   "outputs": [
    {
     "name": "stdout",
     "output_type": "stream",
     "text": [
      "X_train first entry:\n",
      "\n",
      " I was visiting the Tinley park location to put money in the ATM. Their ATM took all my money and never deposited it. Now, I'm late paying my car note while $410 is jammed into my ATM. Now they are doing a 10 business day investigation. If the branch get off their butt to check their own ATMs and check the cameras, I will be on there pissed due to their machine eating my money and not depositing it. They will see the money and the facts if they investigate. Just plain lazy!!\n",
      "\n",
      "\n",
      "X_train shape:  (14384,)\n"
     ]
    }
   ],
   "source": [
    "print('X_train first entry:\\n\\n', X_train.iloc[0])\n",
    "print('\\n\\nX_train shape: ', X_train.shape)"
   ]
  },
  {
   "cell_type": "code",
   "execution_count": 365,
   "metadata": {},
   "outputs": [],
   "source": [
    "from sklearn.feature_extraction.text import CountVectorizer\n",
    "# fit the countvectorizer to the training data: \n",
    "vect = CountVectorizer().fit(X_train)"
   ]
  },
  {
   "cell_type": "code",
   "execution_count": 366,
   "metadata": {},
   "outputs": [
    {
     "name": "stdout",
     "output_type": "stream",
     "text": [
      "['00' '000' '0000' '000000' '0000000' '00000000' '00001' '0001' '0002'\n",
      " '0066950' '008' '00am' '00ish' '00pm' '00s' '01' '010' '0100' '01st' '02']\n"
     ]
    }
   ],
   "source": [
    "# vect.get_feature_names()[:20]\n",
    "feature_names = vect.get_feature_names_out()\n",
    "print(feature_names[:20])"
   ]
  },
  {
   "cell_type": "code",
   "execution_count": 367,
   "metadata": {},
   "outputs": [],
   "source": [
    "# len(vect.get_feature_names())"
   ]
  },
  {
   "cell_type": "code",
   "execution_count": 368,
   "metadata": {},
   "outputs": [
    {
     "data": {
      "text/plain": [
       "<14384x17414 sparse matrix of type '<class 'numpy.int64'>'\n",
       "\twith 960786 stored elements in Compressed Sparse Row format>"
      ]
     },
     "execution_count": 368,
     "metadata": {},
     "output_type": "execute_result"
    }
   ],
   "source": [
    "# transform the documents in the training data to a document-term matrix\n",
    "X_train_vectorized = vect.transform(X_train)\n",
    "\n",
    "X_train_vectorized"
   ]
  },
  {
   "cell_type": "code",
   "execution_count": 369,
   "metadata": {},
   "outputs": [
    {
     "data": {
      "text/html": [
       "<style>#sk-container-id-6 {color: black;}#sk-container-id-6 pre{padding: 0;}#sk-container-id-6 div.sk-toggleable {background-color: white;}#sk-container-id-6 label.sk-toggleable__label {cursor: pointer;display: block;width: 100%;margin-bottom: 0;padding: 0.3em;box-sizing: border-box;text-align: center;}#sk-container-id-6 label.sk-toggleable__label-arrow:before {content: \"▸\";float: left;margin-right: 0.25em;color: #696969;}#sk-container-id-6 label.sk-toggleable__label-arrow:hover:before {color: black;}#sk-container-id-6 div.sk-estimator:hover label.sk-toggleable__label-arrow:before {color: black;}#sk-container-id-6 div.sk-toggleable__content {max-height: 0;max-width: 0;overflow: hidden;text-align: left;background-color: #f0f8ff;}#sk-container-id-6 div.sk-toggleable__content pre {margin: 0.2em;color: black;border-radius: 0.25em;background-color: #f0f8ff;}#sk-container-id-6 input.sk-toggleable__control:checked~div.sk-toggleable__content {max-height: 200px;max-width: 100%;overflow: auto;}#sk-container-id-6 input.sk-toggleable__control:checked~label.sk-toggleable__label-arrow:before {content: \"▾\";}#sk-container-id-6 div.sk-estimator input.sk-toggleable__control:checked~label.sk-toggleable__label {background-color: #d4ebff;}#sk-container-id-6 div.sk-label input.sk-toggleable__control:checked~label.sk-toggleable__label {background-color: #d4ebff;}#sk-container-id-6 input.sk-hidden--visually {border: 0;clip: rect(1px 1px 1px 1px);clip: rect(1px, 1px, 1px, 1px);height: 1px;margin: -1px;overflow: hidden;padding: 0;position: absolute;width: 1px;}#sk-container-id-6 div.sk-estimator {font-family: monospace;background-color: #f0f8ff;border: 1px dotted black;border-radius: 0.25em;box-sizing: border-box;margin-bottom: 0.5em;}#sk-container-id-6 div.sk-estimator:hover {background-color: #d4ebff;}#sk-container-id-6 div.sk-parallel-item::after {content: \"\";width: 100%;border-bottom: 1px solid gray;flex-grow: 1;}#sk-container-id-6 div.sk-label:hover label.sk-toggleable__label {background-color: #d4ebff;}#sk-container-id-6 div.sk-serial::before {content: \"\";position: absolute;border-left: 1px solid gray;box-sizing: border-box;top: 0;bottom: 0;left: 50%;z-index: 0;}#sk-container-id-6 div.sk-serial {display: flex;flex-direction: column;align-items: center;background-color: white;padding-right: 0.2em;padding-left: 0.2em;position: relative;}#sk-container-id-6 div.sk-item {position: relative;z-index: 1;}#sk-container-id-6 div.sk-parallel {display: flex;align-items: stretch;justify-content: center;background-color: white;position: relative;}#sk-container-id-6 div.sk-item::before, #sk-container-id-6 div.sk-parallel-item::before {content: \"\";position: absolute;border-left: 1px solid gray;box-sizing: border-box;top: 0;bottom: 0;left: 50%;z-index: -1;}#sk-container-id-6 div.sk-parallel-item {display: flex;flex-direction: column;z-index: 1;position: relative;background-color: white;}#sk-container-id-6 div.sk-parallel-item:first-child::after {align-self: flex-end;width: 50%;}#sk-container-id-6 div.sk-parallel-item:last-child::after {align-self: flex-start;width: 50%;}#sk-container-id-6 div.sk-parallel-item:only-child::after {width: 0;}#sk-container-id-6 div.sk-dashed-wrapped {border: 1px dashed gray;margin: 0 0.4em 0.5em 0.4em;box-sizing: border-box;padding-bottom: 0.4em;background-color: white;}#sk-container-id-6 div.sk-label label {font-family: monospace;font-weight: bold;display: inline-block;line-height: 1.2em;}#sk-container-id-6 div.sk-label-container {text-align: center;}#sk-container-id-6 div.sk-container {/* jupyter's `normalize.less` sets `[hidden] { display: none; }` but bootstrap.min.css set `[hidden] { display: none !important; }` so we also need the `!important` here to be able to override the default hidden behavior on the sphinx rendered scikit-learn.org. See: https://github.com/scikit-learn/scikit-learn/issues/21755 */display: inline-block !important;position: relative;}#sk-container-id-6 div.sk-text-repr-fallback {display: none;}</style><div id=\"sk-container-id-6\" class=\"sk-top-container\"><div class=\"sk-text-repr-fallback\"><pre>LogisticRegression(max_iter=1000)</pre><b>In a Jupyter environment, please rerun this cell to show the HTML representation or trust the notebook. <br />On GitHub, the HTML representation is unable to render, please try loading this page with nbviewer.org.</b></div><div class=\"sk-container\" hidden><div class=\"sk-item\"><div class=\"sk-estimator sk-toggleable\"><input class=\"sk-toggleable__control sk-hidden--visually\" id=\"sk-estimator-id-6\" type=\"checkbox\" checked><label for=\"sk-estimator-id-6\" class=\"sk-toggleable__label sk-toggleable__label-arrow\">LogisticRegression</label><div class=\"sk-toggleable__content\"><pre>LogisticRegression(max_iter=1000)</pre></div></div></div></div></div>"
      ],
      "text/plain": [
       "LogisticRegression(max_iter=1000)"
      ]
     },
     "execution_count": 369,
     "metadata": {},
     "output_type": "execute_result"
    }
   ],
   "source": [
    "from sklearn.linear_model import LogisticRegression\n",
    "\n",
    "# Train the model\n",
    "model = LogisticRegression(max_iter=1000)\n",
    "model.fit(X_train_vectorized, y_train)"
   ]
  },
  {
   "cell_type": "code",
   "execution_count": 370,
   "metadata": {},
   "outputs": [
    {
     "name": "stdout",
     "output_type": "stream",
     "text": [
      "Acurracy:  95.07820646506778\n",
      "The precision is 83.19672131147541\n",
      "The recall is 72.5\n",
      "The F1-Score is 77.48091603053436\n"
     ]
    }
   ],
   "source": [
    "from sklearn.metrics import accuracy_score\n",
    "from sklearn.metrics import precision_score, recall_score \n",
    "from sklearn.metrics import f1_score\n",
    "\n",
    "# Predict the transformed test documents\n",
    "predictions = model.predict(vect.transform(X_test))\n",
    "print(\"The evaluation for Logistic Regression\")\n",
    "acc1 = accuracy_score(y_test, predictions) * 100\n",
    "print('Acurracy: ', accuracy_score(y_test, predictions) * 100)\n",
    "prec1 = precision_score(y_test, predictions) * 100\n",
    "print(\"The precision is {}\".format(prec1)) \n",
    "  \n",
    "rec1 = recall_score(y_test, predictions)  * 100\n",
    "print(\"The recall is {}\".format(rec1)) \n",
    "  \n",
    "f1_lr = f1_score(y_test, predictions) * 100\n",
    "print(\"The F1-Score is {}\".format(f1_lr)) \n",
    "\n",
    "metrics_array = np.empty((0, 4), float)  \n",
    "accuracy_val = acc1\n",
    "precision_val = prec1\n",
    "recall_val = rec1\n",
    "f1_score_val = f1_lr\n",
    "\n",
    "metrics_array = np.append(metrics_array, np.array([[accuracy_val, precision_val, recall_val, f1_score_val]]), axis=0)\n"
   ]
  },
  {
   "cell_type": "code",
   "execution_count": 371,
   "metadata": {},
   "outputs": [
    {
     "name": "stdout",
     "output_type": "stream",
     "text": [
      "Smallest Coefs:\n",
      "['worst' 'rude' 'horrible' 'declined' 'nightmare' 'awful' 'unless'\n",
      " 'charging' 'poor' 'likely']\n",
      "\n",
      "Largest Coefs: \n",
      "['thank' 'love' 'easy' 'pleased' 'helped' 'helpful' 'great' 'happy' '1099'\n",
      " 'best']\n"
     ]
    }
   ],
   "source": [
    "# get the feature names as numpy array\n",
    "feature_names = vect.get_feature_names_out()\n",
    "\n",
    "# Sort the coefficients from the model\n",
    "sorted_coef_index = model.coef_[0].argsort()\n",
    "\n",
    "# Find the 10 smallest and 10 largest coefficients\n",
    "# The 10 largest coefficients are being indexed using [:-11:-1] \n",
    "# so the list returned is in order of largest to smallest\n",
    "print('Smallest Coefs:\\n{}\\n'.format(feature_names[sorted_coef_index[:10]]))\n",
    "print('Largest Coefs: \\n{}'.format(feature_names[sorted_coef_index[:-11:-1]]))"
   ]
  },
  {
   "cell_type": "code",
   "execution_count": 372,
   "metadata": {},
   "outputs": [],
   "source": [
    "#Import svm model\n",
    "from sklearn import svm\n",
    "\n",
    "#Create a svm Classifier\n",
    "clf = svm.SVC(kernel='linear') # Linear Kernel\n",
    "\n",
    "#Train the model using the training sets\n",
    "clf.fit(X_train_vectorized, y_train)\n",
    "\n",
    "#Predict the response for test dataset\n",
    "predictions = clf.predict(vect.transform(X_test))"
   ]
  },
  {
   "cell_type": "code",
   "execution_count": 373,
   "metadata": {},
   "outputs": [
    {
     "name": "stdout",
     "output_type": "stream",
     "text": [
      "Accuracy: 93.61835245046923\n",
      "The precision is 73.17518248175182\n",
      "The recall is 71.60714285714286\n",
      "The F1-Score is 72.38267148014441\n"
     ]
    }
   ],
   "source": [
    "print(\"The evaluation for SVM\")\n",
    "acc2 = accuracy_score(y_test, predictions) * 100\n",
    "print(\"Accuracy:\", accuracy_score(y_test, predictions) * 100)\n",
    "prec2 = precision_score(y_test, predictions) * 100\n",
    "print(\"The precision is {}\".format(prec2)) \n",
    "  \n",
    "rec2 = recall_score(y_test, predictions)  * 100\n",
    "print(\"The recall is {}\".format(rec2)) \n",
    "  \n",
    "f1_svm = f1_score(y_test, predictions) * 100\n",
    "print(\"The F1-Score is {}\".format(f1_svm)) \n",
    "\n",
    "accuracy_val = acc2\n",
    "precision_val = prec2\n",
    "recall_val = rec2\n",
    "f1_score_val = f1_svm\n",
    "\n",
    "metrics_array = np.append(metrics_array, np.array([[accuracy_val, precision_val, recall_val, f1_score_val]]), axis=0)\n"
   ]
  },
  {
   "cell_type": "code",
   "execution_count": 374,
   "metadata": {},
   "outputs": [
    {
     "name": "stdout",
     "output_type": "stream",
     "text": [
      "The evaluation for knn\n",
      "Accuracy: 80.18769551616268\n",
      "The precision is 83.19672131147541\n",
      "The recall is 72.5\n",
      "The F1-Score is 37.33509234828497\n"
     ]
    }
   ],
   "source": [
    "# K-nearest neighbors (KNN)\n",
    "from sklearn.neighbors import KNeighborsClassifier\n",
    "knn = KNeighborsClassifier()\n",
    "knn.fit(X_train_vectorized, y_train)\n",
    "knn_predictions = knn.predict(vect.transform(X_test))\n",
    "print(\"The evaluation for knn\")\n",
    "acc3 = accuracy_score(y_test, knn_predictions) * 100\n",
    "print(\"Accuracy:\", accuracy_score(y_test, knn_predictions) * 100)\n",
    "prec3 = precision_score(y_test, knn_predictions) * 100\n",
    "print(\"The precision is {}\".format(prec1)) \n",
    "  \n",
    "rec3 = recall_score(y_test, knn_predictions)  * 100\n",
    "print(\"The recall is {}\".format(rec1)) \n",
    "  \n",
    "f1_knn = f1_score(y_test, knn_predictions) * 100\n",
    "print(\"The F1-Score is {}\".format(f1_dt)) \n",
    "\n",
    "accuracy_val = acc3\n",
    "precision_val = prec3\n",
    "recall_val = rec3\n",
    "f1_score_val = f1_knn\n",
    "\n",
    "metrics_array = np.append(metrics_array, np.array([[accuracy_val, precision_val, recall_val, f1_score_val]]), axis=0)\n"
   ]
  },
  {
   "cell_type": "code",
   "execution_count": 375,
   "metadata": {},
   "outputs": [
    {
     "data": {
      "image/png": "[encoded data removed]",
      "text/plain": [
       "<Figure size 1000x600 with 1 Axes>"
      ]
     },
     "metadata": {},
     "output_type": "display_data"
    },
    {
     "name": "stdout",
     "output_type": "stream",
     "text": [
      "Metrics Array:\n",
      "[[95.07820647 83.19672131 72.5        77.48091603]\n",
      " [93.61835245 73.17518248 71.60714286 72.38267148]\n",
      " [80.18769552 29.60251046 50.53571429 37.33509235]]\n"
     ]
    }
   ],
   "source": [
    "import matplotlib.pyplot as plt\n",
    "\n",
    "model_names = ['Logistic Regression', 'SVM', 'KNN']\n",
    "\n",
    "# Metrics names\n",
    "metric_names = ['Accuracy', 'Precision', 'Recall', 'F1 Score']\n",
    "\n",
    "# Number of models\n",
    "num_models = metrics_array.shape[0]\n",
    "\n",
    "# Set up the bar positions\n",
    "bar_positions = np.arange(len(metric_names))\n",
    "\n",
    "# Plotting\n",
    "fig, ax = plt.subplots(figsize=(10, 6))\n",
    "\n",
    "# Loop through models\n",
    "for i in range(num_models):\n",
    "    ax.bar(bar_positions + i * 0.2, metrics_array[i, :], width=0.2, label=model_names[i])\n",
    "\n",
    "# Add labels and title\n",
    "ax.set_xticks(bar_positions + 0.2)\n",
    "ax.set_xticklabels(metric_names)\n",
    "ax.set_ylabel('Score')\n",
    "ax.set_title('Performance Metrics for Different Models')\n",
    "\n",
    "ax.set_ylim(10, 100)\n",
    "ax.legend()\n",
    "\n",
    "# Show the plot\n",
    "plt.show()\n",
    "\n",
    "# Print the array\n",
    "print(\"Metrics Array:\")\n",
    "print(metrics_array)"
   ]
  },
  {
   "cell_type": "code",
   "execution_count": null,
   "metadata": {},
   "outputs": [],
   "source": []
  }
 ],
 "metadata": {
  "kaggle": {
   "accelerator": "none",
   "dataSources": [
    {
     "datasetId": 3778714,
     "sourceId": 6536156,
     "sourceType": "datasetVersion"
    }
   ],
   "dockerImageVersionId": 30558,
   "isGpuEnabled": false,
   "isInternetEnabled": false,
   "language": "python",
   "sourceType": "notebook"
  },
  "kernelspec": {
   "display_name": "Python 3 (ipykernel)",
   "language": "python",
   "name": "python3"
  },
  "language_info": {
   "codemirror_mode": {
    "name": "ipython",
    "version": 3
   },
   "file_extension": ".py",
   "mimetype": "text/x-python",
   "name": "python",
   "nbconvert_exporter": "python",
   "pygments_lexer": "ipython3",
   "version": "3.12.0"
  }
 },
 "nbformat": 4,
 "nbformat_minor": 4
}
